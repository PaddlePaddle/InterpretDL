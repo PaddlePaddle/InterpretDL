{
 "cells": [
  {
   "cell_type": "markdown",
   "metadata": {},
   "source": [
    "# Interpreting ResNet CIFAR-10 Training Process With Training Dynamics"
   ]
  },
  {
   "cell_type": "markdown",
   "metadata": {},
   "source": [
    "This notebook trains a ResNet model using noisy CIFAR-10 dataset and employed Beyond Hand-Designed Feature(BHDF) algorithm, specifically `BHDFInterpreter`, to investigate and record the training dynamics. By establishing representation learning form training dynamics, BHDF proposes a dataset-transferable noise detector to identify the label noises in target datasets"
   ]
  },
  {
   "cell_type": "code",
   "execution_count": null,
   "metadata": {},
   "outputs": [],
   "source": [
    "import paddle\n",
    "import numpy as np\n",
    "from PIL import Image\n",
    "import matplotlib.pyplot as plt\n",
    "import interpretdl as it"
   ]
  },
  {
   "cell_type": "markdown",
   "metadata": {},
   "source": [
    "Define the training dataset using the CIFAR10 dataset generator from **paddle.vision.datasets**."
   ]
  },
  {
   "cell_type": "code",
   "execution_count": null,
   "metadata": {},
   "outputs": [],
   "source": [
    "from paddle.vision.transforms import Transpose\n",
    "from paddle.vision.datasets import Cifar10\n",
    "\n",
    "\n",
    "class dataset(paddle.io.Dataset):\n",
    "    \"\"\"\n",
    "    Modify output of getitem.\n",
    "    \n",
    "    :param :`paddle.io.Dataset`: base_dataset: Dataset to wrap\n",
    "\n",
    "    \"\"\"\n",
    "    def __init__(self,\n",
    "                 base_dataset: object):\n",
    "        super().__init__()\n",
    "        self.dataset = base_dataset\n",
    "\n",
    "    def __len__(self):\n",
    "        return len(self.dataset)\n",
    "\n",
    "    def __getitem__(self, index):\n",
    "        input, target = self.dataset[index]\n",
    "        return index, (input/255.0).astype(np.float32), int(target)\n",
    "\n",
    "org_cifar10 = dataset(Cifar10(mode='train', transform=Transpose()))"
   ]
  },
  {
   "cell_type": "markdown",
   "metadata": {},
   "source": [
    "Define a contaminated dataset given **original dataset**,**noise type** and **noise type**."
   ]
  },
  {
   "cell_type": "markdown",
   "metadata": {},
   "source": [
    "Initialize the ResNet50 model using **paddle.vision.models**."
   ]
  },
  {
   "cell_type": "code",
   "execution_count": null,
   "metadata": {},
   "outputs": [],
   "source": [
    "from paddle.vision.models import resnet34\n",
    "model = resnet34(pretrained=False, num_classes=10)"
   ]
  },
  {
   "cell_type": "markdown",
   "metadata": {},
   "source": [
    "Set up a data loader with batch size of 128, and an Momentum optimizer for training.\n",
    "\n",
    "**Note:** the data generator shoud be able to generate the index of each sample, the sample and its label, so that each sample's behavior can be recorded according to its index."
   ]
  },
  {
   "cell_type": "code",
   "execution_count": null,
   "metadata": {},
   "outputs": [],
   "source": [
    "train_loader = paddle.io.DataLoader(org_cifar10, batch_size=128, shuffle=True,num_workers=4)\n",
    "scheduler = paddle.optimizer.lr.MultiStepDecay(learning_rate=0.1, milestones=[100, 150], gamma=0.1)\n",
    "optimizer = paddle.optimizer.SGD(learning_rate=scheduler, parameters=model.parameters())"
   ]
  },
  {
   "cell_type": "markdown",
   "metadata": {},
   "source": [
    "First initialize the `TrainingDynamicsInterpreter` and then start `generator`ing the training process by training 200 epochs. \n",
    "\n",
    "*training_dynamics* is a dictionary that maps image index to each epoch's predictions in the training process; assigned_targets is list indicating the assigned targets (maybe noisy) for each sample. They are saved at \"assets/training_dynamics.npz\" as default."
   ]
  },
  {
   "cell_type": "code",
   "execution_count": null,
   "metadata": {},
   "outputs": [],
   "source": [
    "TDI = it.TrainingDynamics(model, device='gpu:0')\n",
    "\n",
    "epochs = 200\n",
    "print('Training %d epochs. This may take some time.' % epochs)\n",
    "training_dynamics = TDI.generator(\n",
    "                  train_loader=train_loader,\n",
    "                  optimizer=optimizer,\n",
    "                  epochs=epochs,              \n",
    ")"
   ]
  },
  {
   "cell_type": "code",
   "execution_count": null,
   "metadata": {},
   "outputs": [],
   "source": [
    "TDI.save(training_dynamics,assigned_targets,label_flip=None,save_path='assets')"
   ]
  },
  {
   "cell_type": "markdown",
   "metadata": {},
   "source": [
    "# predict and rank"
   ]
  },
  {
   "cell_type": "markdown",
   "metadata": {},
   "source": [
    "With help of representation learning from time-series data, a two-layer LSTM model can be instanced as a noise detector to identify the underlying label noise in CIFAR-10 dataset  "
   ]
  },
  {
   "cell_type": "code",
   "execution_count": null,
   "metadata": {
    "tags": []
   },
   "outputs": [],
   "source": [
    "class LSTM_detector(paddle.nn.Layer):\n",
    "    def __init__(self,input_size=1,hidden_size=64,num_layers=2):\n",
    "        super(LSTM_detector, self).__init__()\n",
    "        \n",
    "        # maybe need initialisation\n",
    "        self.classifier = paddle.nn.Linear(in_features=hidden_size,out_features=2)\n",
    "        self.softmax = paddle.nn.Softmax()\n",
    "        self.lstm = paddle.nn.LSTM(input_size=input_size, \n",
    "                                   hidden_size=hidden_size, \n",
    "                                   num_layers=num_layers,\n",
    "                                   time_major=False,)\n",
    "    def forward(self, x):\n",
    "        if len(x.shape) !=3:\n",
    "            x = paddle.unsqueeze(x,axis=2)\n",
    "        out, (_, _) = self.lstm(x)\n",
    "        out = self.classifier(out[:,-1,:])\n",
    "        out = self.softmax(out)\n",
    "        return out\n",
    "\n",
    "detector = it.LSTM()\n",
    "BHDF = it.BHDFinterpreter(detector=detector, device='gpu:0')\n",
    "order,predictions = BHDF.interpret(training_dynamics_path=\"assets/training_dynamics.npz\")"
   ]
  },
  {
   "cell_type": "markdown",
   "metadata": {},
   "source": [
    "# visulization"
   ]
  },
  {
   "cell_type": "code",
   "execution_count": null,
   "metadata": {},
   "outputs": [],
   "source": [
    "plt.hist(predictions)\n",
    "plt.title(\"Distribution Of Predictions\")"
   ]
  },
  {
   "cell_type": "code",
   "execution_count": null,
   "metadata": {},
   "outputs": [],
   "source": [
    "def showsomesamples(train_dataset,indices,names):\n",
    "    \n",
    "    index = indices[i]\n",
    "    image = train_dataset.__getitem__(index)[0].transpose(1,2,0)\n",
    "    label = train_dataset.__getitem__(index)[1].item()\n",
    "\n",
    "    ax=fig.add_subplot(rows, columns, i+1)\n",
    "    plt.imshow(image)\n",
    "    plt.axis('off')\n",
    "\n",
    "    title = ax.set_title(names[label], fontsize=13,position=(.5, 1),\n",
    "             backgroundcolor='black', color='white',\n",
    "             verticalalignment=\"bottom\", horizontalalignment=\"center\")\n",
    "    title._bbox_patch._mutation_aspect = 0.04\n",
    "    title.get_bbox_patch().set_boxstyle(\"square\", pad=5)\n",
    "    plt.tight_layout()\n",
    "    \n",
    "#top 50\n",
    "rows = 10\n",
    "columns = 5\n",
    "labeldict={0:'airplane',\n",
    "           1:'automobile',\n",
    "           2:'bird',\n",
    "           3:'cat',\n",
    "           4:'deer',\n",
    "           5:'dog',\n",
    "           6:'frog',\n",
    "           7:'horse',\n",
    "           8:'ship',\n",
    "           9:'truck'}\n",
    "\n",
    "fig = plt.figure(figsize=(3*columns, 3.2*rows))\n",
    "for i in range(rows*columns):\n",
    "    showsomesamples(org_cifar10.dataset,np.flip(order[-rows*columns:]),labeldict)"
   ]
  }
 ],
 "metadata": {
  "kernelspec": {
   "display_name": "Python 3.8.2 64-bit",
   "language": "python",
   "name": "python3"
  },
  "language_info": {
   "codemirror_mode": {
    "name": "ipython",
    "version": 3
   },
   "file_extension": ".py",
   "mimetype": "text/x-python",
   "name": "python",
   "nbconvert_exporter": "python",
   "pygments_lexer": "ipython3",
   "version": "3.8.2"
  },
  "vscode": {
   "interpreter": {
    "hash": "31f2aee4e71d21fbe5cf8b01ff0e069b9275f58929596ceb00d14d90e3e16cd6"
   }
  }
 },
 "nbformat": 4,
 "nbformat_minor": 4
}
